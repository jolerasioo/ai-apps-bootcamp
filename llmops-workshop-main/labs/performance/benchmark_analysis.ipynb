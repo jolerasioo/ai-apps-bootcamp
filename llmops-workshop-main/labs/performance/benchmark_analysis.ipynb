{
 "cells": [
  {
   "cell_type": "markdown",
   "metadata": {},
   "source": [
    "### 1) Load Test Results"
   ]
  },
  {
   "cell_type": "code",
   "execution_count": null,
   "metadata": {},
   "outputs": [],
   "source": [
    "import os\n",
    "import pandas as pd\n",
    "import json\n",
    "\n",
    "# Get a list of all log files in the directory\n",
    "log_files = [f for f in os.listdir() if f.endswith('.log')]\n",
    "\n",
    "# Create a dictionary to hold all dataframes\n",
    "dfs = {}\n",
    "\n",
    "for file in log_files:\n",
    "    data = []\n",
    "    with open(file, 'r') as f:\n",
    "        for line in f:\n",
    "            data.append(json.loads(line))\n",
    "    \n",
    "    df = pd.json_normalize(data, sep='_')\n",
    "\n",
    "    # Remove the .log extension and use the filename as the key in the dictionary\n",
    "    dfs[file[:-4]] = df\n",
    "\n",
    "# Print the number of test runs\n",
    "print(f\"Number of test runs: {len(dfs)}\")\n",
    "\n",
    "# Print the name of each test run\n",
    "for name in dfs.keys():\n",
    "    print(name)"
   ]
  },
  {
   "cell_type": "markdown",
   "metadata": {},
   "source": [
    "### 2) Summarize Test Runs"
   ]
  },
  {
   "cell_type": "code",
   "execution_count": null,
   "metadata": {},
   "outputs": [],
   "source": [
    "from tabulate import tabulate\n",
    "\n",
    "# Create a list to hold the last row of each DataFrame\n",
    "summary_data = []\n",
    "\n",
    "for name, df in dfs.items():\n",
    "    # Check if the DataFrame is empty\n",
    "    if not df.empty:\n",
    "        # Get the last row of the DataFrame\n",
    "        last_row = df.iloc[-1:]\n",
    "        \n",
    "        # Add the name of the DataFrame as the first column\n",
    "        last_row.insert(0, 'DataFrame', name)\n",
    "    \n",
    "        # Append the last row to the summary_data list\n",
    "        summary_data.append(last_row)\n",
    "\n",
    "# Convert the list of last rows into a DataFrame\n",
    "summary_df = pd.concat(summary_data)\n",
    "\n",
    "# Print summary_df in a tabular format\n",
    "print('Execution Summary:')\n",
    "print(tabulate(summary_df, headers='keys', tablefmt='psql', showindex=False))"
   ]
  },
  {
   "cell_type": "markdown",
   "metadata": {},
   "source": [
    "### 3) Create some trend charts"
   ]
  },
  {
   "cell_type": "code",
   "execution_count": null,
   "metadata": {},
   "outputs": [],
   "source": [
    "import matplotlib.pyplot as plt\n",
    "import numpy as np\n",
    "\n",
    "# Increase the global font size\n",
    "plt.rcParams.update({'font.size': 16})\n",
    "\n",
    "# List of fields to plot\n",
    "fields = ['requests', 'failures', 'e2e_avg', 'ttft_avg', 'tbt_avg', 'util_avg']\n",
    "\n",
    "# Determine the number of rows and columns for the subplots\n",
    "nrows = len(fields)\n",
    "ncols = len(dfs)\n",
    "\n",
    "# Increase the height of each chart to 10 inches\n",
    "fig, axs = plt.subplots(nrows, ncols, figsize=(2 * ncols * 6, nrows * 10))\n",
    "fig.subplots_adjust(hspace=0.5)\n",
    "\n",
    "# Loop over each field, each dataframe, and each axes\n",
    "for i, field in enumerate(fields):\n",
    "    for j, (name, df) in enumerate(dfs.items()):\n",
    "        # Check if 'run_seconds' and field exist in df\n",
    "        if 'run_seconds' in df.columns and field in df.columns:\n",
    "            # Convert 'run_seconds' and field to numeric type and drop rows with NaN values\n",
    "            df['run_seconds'] = pd.to_numeric(df['run_seconds'], errors='coerce')\n",
    "            df[field] = pd.to_numeric(df[field], errors='coerce')\n",
    "            df = df.dropna(subset=['run_seconds', field])\n",
    "\n",
    "            # Create a line plot on each axes\n",
    "            if ncols > 1:\n",
    "                ax = axs[i, j]\n",
    "            else:\n",
    "                ax = axs[i]\n",
    "\n",
    "            ax.plot(df['run_seconds'], df[field])\n",
    "\n",
    "            # Set the title of the plot to the name of the dataframe\n",
    "            ax.set_title(name)\n",
    "\n",
    "            # Set the labels for the x-axis and y-axis\n",
    "            ax.set_xlabel('run_seconds')\n",
    "            ax.set_ylabel(field)\n",
    "        else:\n",
    "            print(f\"'run_seconds' or '{field}' not found in DataFrame {name}\")\n",
    "\n",
    "# Display the plots\n",
    "plt.show()"
   ]
  }
 ],
 "metadata": {
  "kernelspec": {
   "display_name": "aoai_benchmarking",
   "language": "python",
   "name": "python3"
  },
  "language_info": {
   "codemirror_mode": {
    "name": "ipython",
    "version": 3
   },
   "file_extension": ".py",
   "mimetype": "text/x-python",
   "name": "python",
   "nbconvert_exporter": "python",
   "pygments_lexer": "ipython3",
   "version": "3.10.14"
  }
 },
 "nbformat": 4,
 "nbformat_minor": 2
}
